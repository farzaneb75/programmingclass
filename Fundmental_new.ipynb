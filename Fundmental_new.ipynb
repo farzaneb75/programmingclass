{
  "cells": [
    {
      "cell_type": "markdown",
      "id": "dc2ab282",
      "metadata": {
        "id": "dc2ab282"
      },
      "source": [
        "\n",
        "# What is computer programming?\n",
        "\n",
        "\n",
        "Computer programming is the process of performing a <b>particular computation</b> (or more generally, accomplishing a specific computing result), usually <br>by designing and building an executable computer program</b>.\n",
        "\n",
        "<br>The purpose of programming</b> is to find a sequence of instructions that will <b>automate the performance</b> of a task (which can be as complex as an operating system) on a computer, often for solving a given problem."
      ]
    },
    {
      "cell_type": "markdown",
      "id": "9c7062bb",
      "metadata": {
        "id": "9c7062bb"
      },
      "source": [
        "# What is IDE?\n",
        "An integrated development environment (IDE) is a software application that helps programmers develop software code efficiently."
      ]
    },
    {
      "cell_type": "markdown",
      "id": "0de28ad9",
      "metadata": {
        "id": "0de28ad9"
      },
      "source": [
        "# Programming language\n",
        "A compiler translates the entire source code in a single run. An interpreter translates the entire source code line by line. It consumes less time i.e., it is faster than an interpreter. It consumes much more time than the compiler i.e., it is slower than the compiler."
      ]
    },
    {
      "cell_type": "markdown",
      "id": "e997de8c",
      "metadata": {
        "id": "e997de8c"
      },
      "source": [
        "# What can you do with python?\n",
        "</br>\n",
        " <b>Automate Simple tasks.</b>\n",
        "1. Searching for file and editing them.\n",
        "2. Scraping information from a website.\n",
        "3. Reading and editing excel files.\n",
        "4. Work with PDFs.\n",
        "5. Automate emails and text messages.\n",
        "6. Fill out Form.\n",
        "</br>\n",
        "<b>Data science and machine learning.</b>\n",
        "1. Analyze large data files.\n",
        "2. Create visualizations.\n",
        "3. Perform machine learning tasks.\n",
        "4. Create and run predictive algorithms.\n",
        "</br>\n",
        "<b>Create websites.</b>\n",
        "1. Use web frameworks such as Django and Flask to handle the backend of a website and user data.\n",
        "2. Create interactive dashboards for users."
      ]
    },
    {
      "cell_type": "markdown",
      "id": "9f918f12",
      "metadata": {
        "id": "9f918f12"
      },
      "source": [
        "# Python\n",
        "1. Python is Popular\n",
        "2. Python is Interpreted\n",
        "3. Python is Free\n",
        "4. Python is Portable</br>\n",
        "Because Python code is interpreted and not compiled into native machine instructions, code written for one platform will work on any other platform that has the Python interpreter installed. (This is true of any interpreted language, not just Python.)\n",
        "5. Python is Simple\n"
      ]
    },
    {
      "cell_type": "markdown",
      "id": "15ae36b0",
      "metadata": {
        "id": "15ae36b0"
      },
      "source": [
        "# interacting with Pyhton\n",
        "hello world <br>\n",
        "use it as calculator<br>\n",
        "input"
      ]
    },
    {
      "cell_type": "code",
      "execution_count": null,
      "id": "329ccd58",
      "metadata": {
        "id": "329ccd58",
        "outputId": "53d90c9d-f4d6-432f-af43-782e1b9d231d"
      },
      "outputs": [
        {
          "ename": "SyntaxError",
          "evalue": "invalid syntax. Perhaps you forgot a comma? (1578745968.py, line 1)",
          "output_type": "error",
          "traceback": [
            "\u001b[0;36m  Input \u001b[0;32mIn [2]\u001b[0;36m\u001b[0m\n\u001b[0;31m    print(Hello world!)\u001b[0m\n\u001b[0m          ^\u001b[0m\n\u001b[0;31mSyntaxError\u001b[0m\u001b[0;31m:\u001b[0m invalid syntax. Perhaps you forgot a comma?\n"
          ]
        }
      ],
      "source": [
        "print(Hello world!)"
      ]
    },
    {
      "cell_type": "code",
      "execution_count": null,
      "id": "edfff324",
      "metadata": {
        "id": "edfff324",
        "outputId": "9fc4f613-0007-4702-85b7-c1a79be14cd1"
      },
      "outputs": [
        {
          "data": {
            "text/plain": [
              "14"
            ]
          },
          "execution_count": 111,
          "metadata": {},
          "output_type": "execute_result"
        }
      ],
      "source": [
        "6+8"
      ]
    },
    {
      "cell_type": "code",
      "execution_count": null,
      "id": "0bea67b8",
      "metadata": {
        "id": "0bea67b8",
        "outputId": "7877402c-9d54-4b91-b875-a88794f1ae8a"
      },
      "outputs": [
        {
          "data": {
            "text/plain": [
              "4"
            ]
          },
          "execution_count": 112,
          "metadata": {},
          "output_type": "execute_result"
        }
      ],
      "source": [
        "2+2"
      ]
    },
    {
      "cell_type": "markdown",
      "id": "457889f2",
      "metadata": {
        "id": "457889f2"
      },
      "source": [
        "# Data type\n",
        "1. Basic Data Types\n",
        "2. Variables in Python\n",
        "3. Operators and Expressions\n"
      ]
    },
    {
      "cell_type": "markdown",
      "id": "08357cdc",
      "metadata": {
        "id": "08357cdc"
      },
      "source": [
        "# Basic data type\n"
      ]
    },
    {
      "cell_type": "code",
      "execution_count": null,
      "id": "d51c21fb",
      "metadata": {
        "id": "d51c21fb",
        "outputId": "29e0f32a-65f7-4849-d3c8-75387b927cae"
      },
      "outputs": [
        {
          "data": {
            "text/plain": [
              "32"
            ]
          },
          "execution_count": 115,
          "metadata": {},
          "output_type": "execute_result"
        }
      ],
      "source": [
        "#Integers\n",
        "\n",
        "import sys\n",
        "sys.getsizeof(1545896222222328)"
      ]
    },
    {
      "cell_type": "code",
      "execution_count": null,
      "id": "ac6216de",
      "metadata": {
        "id": "ac6216de",
        "outputId": "34fe930f-e13b-4dc0-c284-d7334d9d9fd3"
      },
      "outputs": [
        {
          "name": "stdout",
          "output_type": "stream",
          "text": [
            "55\n"
          ]
        }
      ],
      "source": [
        "print(55)"
      ]
    },
    {
      "cell_type": "code",
      "execution_count": null,
      "id": "8dfd3424",
      "metadata": {
        "id": "8dfd3424",
        "outputId": "12ee1b5e-d584-4c9f-94a4-6bb650d1f0a3"
      },
      "outputs": [
        {
          "data": {
            "text/plain": [
              "int"
            ]
          },
          "execution_count": 117,
          "metadata": {},
          "output_type": "execute_result"
        }
      ],
      "source": [
        "type(555)"
      ]
    },
    {
      "cell_type": "code",
      "execution_count": null,
      "id": "9f43587b",
      "metadata": {
        "id": "9f43587b",
        "outputId": "ab231fef-2f5e-48cf-b2ba-951ec83c7724"
      },
      "outputs": [
        {
          "name": "stdout",
          "output_type": "stream",
          "text": [
            "5.3\n"
          ]
        }
      ],
      "source": [
        "#Float\n",
        "\n",
        "print(5.3)"
      ]
    },
    {
      "cell_type": "code",
      "execution_count": null,
      "id": "c57cd074",
      "metadata": {
        "id": "c57cd074",
        "outputId": "a096534f-8bfd-4b4f-95e4-1663468604fa"
      },
      "outputs": [
        {
          "data": {
            "text/plain": [
              "float"
            ]
          },
          "execution_count": 119,
          "metadata": {},
          "output_type": "execute_result"
        }
      ],
      "source": [
        "type(5.3)"
      ]
    },
    {
      "cell_type": "code",
      "execution_count": null,
      "id": "bedfe0df",
      "metadata": {
        "id": "bedfe0df",
        "outputId": "74dd2091-044c-4f87-a8b5-383351868527"
      },
      "outputs": [
        {
          "name": "stdout",
          "output_type": "stream",
          "text": [
            "12300000.0\n"
          ]
        }
      ],
      "source": [
        "print(1.23e+07)"
      ]
    },
    {
      "cell_type": "code",
      "execution_count": null,
      "id": "b55040e0",
      "metadata": {
        "id": "b55040e0",
        "outputId": "409c07bb-a02c-41b3-f67c-483d7c5b72e3"
      },
      "outputs": [
        {
          "data": {
            "text/plain": [
              "float"
            ]
          },
          "execution_count": 121,
          "metadata": {},
          "output_type": "execute_result"
        }
      ],
      "source": [
        "type(1.23e+07)"
      ]
    },
    {
      "cell_type": "code",
      "execution_count": null,
      "id": "e3188266",
      "metadata": {
        "id": "e3188266",
        "outputId": "333e2402-edee-4957-c658-a250e5b6e567"
      },
      "outputs": [
        {
          "data": {
            "text/plain": [
              "True"
            ]
          },
          "execution_count": 122,
          "metadata": {},
          "output_type": "execute_result"
        }
      ],
      "source": [
        "1.23e+07 == 12300000"
      ]
    },
    {
      "cell_type": "code",
      "execution_count": null,
      "id": "f255d0f7",
      "metadata": {
        "id": "f255d0f7",
        "outputId": "f313fd75-0344-4804-80d2-d5204bfbe7ac"
      },
      "outputs": [
        {
          "name": "stdout",
          "output_type": "stream",
          "text": [
            "I am String\n"
          ]
        }
      ],
      "source": [
        "#string\n",
        "#Strings are sequences of character data. The string type in Python is called str.\n",
        "\n",
        "print('I am String')"
      ]
    },
    {
      "cell_type": "code",
      "execution_count": null,
      "id": "e4449cc7",
      "metadata": {
        "id": "e4449cc7",
        "outputId": "302e7f21-1277-41bd-f584-a4fbf66ab747"
      },
      "outputs": [
        {
          "ename": "SyntaxError",
          "evalue": "unterminated string literal (detected at line 1) (3961230556.py, line 1)",
          "output_type": "error",
          "traceback": [
            "\u001b[0;36m  Input \u001b[0;32mIn [4]\u001b[0;36m\u001b[0m\n\u001b[0;31m    print(\"I am String\u001b[0m\n\u001b[0m          ^\u001b[0m\n\u001b[0;31mSyntaxError\u001b[0m\u001b[0;31m:\u001b[0m unterminated string literal (detected at line 1)\n"
          ]
        }
      ],
      "source": [
        "print(\"I am String okay\")"
      ]
    },
    {
      "cell_type": "code",
      "execution_count": null,
      "id": "a7c9ab60",
      "metadata": {
        "id": "a7c9ab60",
        "outputId": "e1b4309e-41df-4be6-b8c0-9829e6111a41"
      },
      "outputs": [
        {
          "data": {
            "text/plain": [
              "str"
            ]
          },
          "execution_count": 125,
          "metadata": {},
          "output_type": "execute_result"
        }
      ],
      "source": [
        "type(\"I am String\")"
      ]
    },
    {
      "cell_type": "code",
      "execution_count": null,
      "id": "af8d6fec",
      "metadata": {
        "id": "af8d6fec",
        "outputId": "7b025acd-8d01-4993-8d4e-ae05a857282d"
      },
      "outputs": [
        {
          "name": "stdout",
          "output_type": "stream",
          "text": [
            "This is a\n",
            "string that spans\n",
            "across several lines\n",
            "\n"
          ]
        }
      ],
      "source": [
        "#no need to add newline\n",
        "print(\"\"\"This is a\n",
        "string that spans\n",
        "across several lines\n",
        "\"\"\")"
      ]
    },
    {
      "cell_type": "code",
      "execution_count": null,
      "id": "4b12e1e6",
      "metadata": {
        "id": "4b12e1e6",
        "outputId": "f21af528-1a6e-4735-8559-566e2f8ce448"
      },
      "outputs": [
        {
          "name": "stdout",
          "output_type": "stream",
          "text": [
            "This is a\n",
            "string that spans\n",
            "across several lines\n",
            "\n"
          ]
        }
      ],
      "source": [
        "print('''This is a\n",
        "string that spans\n",
        "across several lines\n",
        "''')"
      ]
    },
    {
      "cell_type": "code",
      "execution_count": null,
      "id": "f28c61b7",
      "metadata": {
        "id": "f28c61b7",
        "outputId": "14bf7e6e-ff70-4505-beed-670f653805c7"
      },
      "outputs": [
        {
          "data": {
            "text/plain": [
              "bool"
            ]
          },
          "execution_count": 130,
          "metadata": {},
          "output_type": "execute_result"
        }
      ],
      "source": [
        "#boolean\n",
        "#Objects of Boolean type may have one of two values, True or False. they are interpreted to represent truth or falsehood.\n",
        "type(True)"
      ]
    },
    {
      "cell_type": "code",
      "execution_count": null,
      "id": "e83fe839",
      "metadata": {
        "id": "e83fe839",
        "outputId": "fecb5e5e-bcb8-4e06-ffc3-c70b997cca23"
      },
      "outputs": [
        {
          "data": {
            "text/plain": [
              "bool"
            ]
          },
          "execution_count": 131,
          "metadata": {},
          "output_type": "execute_result"
        }
      ],
      "source": [
        "type(False)"
      ]
    },
    {
      "cell_type": "code",
      "execution_count": null,
      "id": "dbdbd7a1",
      "metadata": {
        "id": "dbdbd7a1",
        "outputId": "f4453352-a468-48b2-a560-d2bb2490ce8b"
      },
      "outputs": [
        {
          "data": {
            "text/plain": [
              "5"
            ]
          },
          "execution_count": 132,
          "metadata": {},
          "output_type": "execute_result"
        }
      ],
      "source": [
        "#Built-In Functions\n",
        "#https://docs.python.org/3.6/library/functions.html\n",
        "#convert type\n",
        "int(5.3)"
      ]
    },
    {
      "cell_type": "code",
      "execution_count": null,
      "id": "9c925d98",
      "metadata": {
        "id": "9c925d98",
        "outputId": "b32eec1c-be61-4ab1-9c67-5df1ad703839"
      },
      "outputs": [
        {
          "data": {
            "text/plain": [
              "False"
            ]
          },
          "execution_count": 133,
          "metadata": {},
          "output_type": "execute_result"
        }
      ],
      "source": [
        "bool(0)"
      ]
    },
    {
      "cell_type": "code",
      "execution_count": null,
      "id": "0abe0088",
      "metadata": {
        "id": "0abe0088",
        "outputId": "8cc22d27-cc79-4987-a892-35104bb52e27"
      },
      "outputs": [
        {
          "data": {
            "text/plain": [
              "3.56"
            ]
          },
          "execution_count": 134,
          "metadata": {},
          "output_type": "execute_result"
        }
      ],
      "source": [
        "round(3.555,2)"
      ]
    },
    {
      "cell_type": "code",
      "execution_count": null,
      "id": "fad9452b",
      "metadata": {
        "id": "fad9452b",
        "outputId": "2b289292-3dc5-4b72-83ef-9f9bb8df85e2"
      },
      "outputs": [
        {
          "data": {
            "text/plain": [
              "654"
            ]
          },
          "execution_count": 135,
          "metadata": {},
          "output_type": "execute_result"
        }
      ],
      "source": [
        "abs(-654)"
      ]
    },
    {
      "cell_type": "code",
      "execution_count": null,
      "id": "9e77394c",
      "metadata": {
        "id": "9e77394c",
        "outputId": "278fb2df-9426-45bf-db42-b194d00ebdcd"
      },
      "outputs": [
        {
          "data": {
            "text/plain": [
              "100000"
            ]
          },
          "execution_count": 136,
          "metadata": {},
          "output_type": "execute_result"
        }
      ],
      "source": [
        "pow(10,5)"
      ]
    },
    {
      "cell_type": "markdown",
      "id": "288f0287",
      "metadata": {
        "id": "288f0287"
      },
      "source": [
        "# Variable\n",
        "<b>Variable Assignment</b>: variable as a name attached to a particular object\n",
        "\n",
        "1. A variable name must start with a letter or the underscore character\n",
        "2. A variable name cannot start with a number\n",
        "3. A variable name can only contain alpha-numeric characters and underscores (A-z, 0-9, and _ )\n",
        "4. Variable names are case-sensitive (age, Age and AGE are three different variables)\n",
        "\n",
        "important: * Python is case sensetive\n"
      ]
    },
    {
      "cell_type": "code",
      "execution_count": null,
      "id": "4352c712",
      "metadata": {
        "id": "4352c712",
        "outputId": "ad3325a0-af32-4246-b60f-4f8baeb32dc5"
      },
      "outputs": [
        {
          "name": "stdout",
          "output_type": "stream",
          "text": [
            "100\n"
          ]
        }
      ],
      "source": [
        "num = 100\n",
        "print(num)"
      ]
    },
    {
      "cell_type": "code",
      "execution_count": null,
      "id": "06d0751c",
      "metadata": {
        "id": "06d0751c",
        "outputId": "9132b572-1f6d-45c3-c511-b61a7a4e9709"
      },
      "outputs": [
        {
          "name": "stdout",
          "output_type": "stream",
          "text": [
            "python\n"
          ]
        }
      ],
      "source": [
        "MyNewStr = 'python'\n",
        "print(MyNewStr)"
      ]
    },
    {
      "cell_type": "code",
      "execution_count": null,
      "id": "bfb43039",
      "metadata": {
        "id": "bfb43039",
        "outputId": "bd32065e-e066-443a-d920-95f5194048e7"
      },
      "outputs": [
        {
          "name": "stdout",
          "output_type": "stream",
          "text": [
            "300 300 300\n"
          ]
        }
      ],
      "source": [
        "a = b = c = 300\n",
        "print(a,b,c)"
      ]
    },
    {
      "cell_type": "code",
      "execution_count": null,
      "id": "9cc05d4d",
      "metadata": {
        "id": "9cc05d4d",
        "outputId": "7e9055c8-6fdc-41f4-9bad-b4f6c6b4cd9d"
      },
      "outputs": [
        {
          "data": {
            "text/plain": [
              "str"
            ]
          },
          "execution_count": 140,
          "metadata": {},
          "output_type": "execute_result"
        }
      ],
      "source": [
        "NewNum = '555'\n",
        "type(NewNum)"
      ]
    },
    {
      "cell_type": "code",
      "execution_count": null,
      "id": "9a8653c1",
      "metadata": {
        "id": "9a8653c1",
        "outputId": "7c6cd87e-5846-4db7-f3de-3c0f82136b73"
      },
      "outputs": [
        {
          "name": "stdout",
          "output_type": "stream",
          "text": [
            "6\n"
          ]
        }
      ],
      "source": [
        "a = 5\n",
        "a = 6\n",
        "print(a)"
      ]
    },
    {
      "cell_type": "code",
      "execution_count": null,
      "id": "92d08ff3",
      "metadata": {
        "id": "92d08ff3",
        "outputId": "c0de8530-b5d6-429e-a5a6-3dc1c482ab5e"
      },
      "outputs": [
        {
          "name": "stdout",
          "output_type": "stream",
          "text": [
            "4\n"
          ]
        }
      ],
      "source": [
        "#case sensetive\n",
        "var = 9\n",
        "Var = 4\n",
        "print(Var)"
      ]
    },
    {
      "cell_type": "code",
      "execution_count": null,
      "id": "eee5b8f1",
      "metadata": {
        "id": "eee5b8f1",
        "outputId": "32ae903b-3487-4979-822e-e6e4a8112df7"
      },
      "outputs": [
        {
          "name": "stdout",
          "output_type": "stream",
          "text": [
            "\n",
            "Here is a list of the Python keywords.  Enter any keyword to get more help.\n",
            "\n",
            "False               class               from                or\n",
            "None                continue            global              pass\n",
            "True                def                 if                  raise\n",
            "and                 del                 import              return\n",
            "as                  elif                in                  try\n",
            "assert              else                is                  while\n",
            "async               except              lambda              with\n",
            "await               finally             nonlocal            yield\n",
            "break               for                 not                 \n",
            "\n"
          ]
        }
      ],
      "source": [
        "#Reserved Words (Keywords)\n",
        "help('keywords')"
      ]
    },
    {
      "cell_type": "markdown",
      "id": "58617952",
      "metadata": {
        "id": "58617952"
      },
      "source": [
        "Naming style for diffrent types of object in python\n",
        "https://peps.python.org/pep-0008/#descriptive-naming-styles"
      ]
    },
    {
      "cell_type": "markdown",
      "id": "07ebcc85",
      "metadata": {
        "id": "07ebcc85"
      },
      "source": [
        "# Arithmetic Operators"
      ]
    },
    {
      "cell_type": "markdown",
      "id": "89dba723",
      "metadata": {
        "id": "89dba723"
      },
      "source": [
        "1. Addition Operator"
      ]
    },
    {
      "cell_type": "code",
      "execution_count": null,
      "id": "53a67941",
      "metadata": {
        "id": "53a67941",
        "outputId": "11cb398c-9bdc-4f87-f8ec-737a1849127f"
      },
      "outputs": [
        {
          "name": "stdout",
          "output_type": "stream",
          "text": [
            "stff\n"
          ]
        }
      ],
      "source": [
        "val1 = 'st'\n",
        "val2 = 'ff'\n",
        "\n",
        "# using the addition operator\n",
        "res = val1 + val2\n",
        "print(res)"
      ]
    },
    {
      "cell_type": "markdown",
      "id": "c351022e",
      "metadata": {
        "id": "c351022e"
      },
      "source": [
        "2. Subtraction Operator"
      ]
    },
    {
      "cell_type": "code",
      "execution_count": null,
      "id": "fcb9ae1f",
      "metadata": {
        "id": "fcb9ae1f",
        "outputId": "42b74863-c75a-4829-d894-cd5d7fb3db3f"
      },
      "outputs": [
        {
          "ename": "TypeError",
          "evalue": "unsupported operand type(s) for -: 'str' and 'str'",
          "output_type": "error",
          "traceback": [
            "\u001b[0;31m---------------------------------------------------------------------------\u001b[0m",
            "\u001b[0;31mTypeError\u001b[0m                                 Traceback (most recent call last)",
            "Input \u001b[0;32mIn [3]\u001b[0m, in \u001b[0;36m<cell line: 5>\u001b[0;34m()\u001b[0m\n\u001b[1;32m      2\u001b[0m val2 \u001b[38;5;241m=\u001b[39m \u001b[38;5;124m'\u001b[39m\u001b[38;5;124mgg\u001b[39m\u001b[38;5;124m'\u001b[39m\n\u001b[1;32m      4\u001b[0m \u001b[38;5;66;03m# using the subtraction operator\u001b[39;00m\n\u001b[0;32m----> 5\u001b[0m res \u001b[38;5;241m=\u001b[39m \u001b[43mval1\u001b[49m\u001b[43m \u001b[49m\u001b[38;5;241;43m-\u001b[39;49m\u001b[43m \u001b[49m\u001b[43mval2\u001b[49m\n\u001b[1;32m      6\u001b[0m \u001b[38;5;28mprint\u001b[39m(res)\n",
            "\u001b[0;31mTypeError\u001b[0m: unsupported operand type(s) for -: 'str' and 'str'"
          ]
        }
      ],
      "source": [
        "val1 = 'f'\n",
        "val2 = 'gg'\n",
        "\n",
        "# using the subtraction operator\n",
        "res = val1 - val2\n",
        "print(res)"
      ]
    },
    {
      "cell_type": "markdown",
      "id": "57491b44",
      "metadata": {
        "id": "57491b44"
      },
      "source": [
        "3. Multiplication Operator"
      ]
    },
    {
      "cell_type": "code",
      "execution_count": null,
      "id": "6ffbdf3f",
      "metadata": {
        "id": "6ffbdf3f",
        "outputId": "bac0fe1c-4306-4e5f-901f-c98551d2aa81"
      },
      "outputs": [
        {
          "name": "stdout",
          "output_type": "stream",
          "text": [
            "6\n"
          ]
        }
      ],
      "source": [
        "val1 = 2\n",
        "val2 = 3\n",
        "\n",
        "# using the multiplication operator\n",
        "res = val1 * val2\n",
        "print(res)"
      ]
    },
    {
      "cell_type": "markdown",
      "id": "94ae700c",
      "metadata": {
        "id": "94ae700c"
      },
      "source": [
        "4. Division Operator"
      ]
    },
    {
      "cell_type": "code",
      "execution_count": null,
      "id": "275c4988",
      "metadata": {
        "id": "275c4988",
        "outputId": "b164faaa-ec67-4bba-c5c1-ff64e6937c00"
      },
      "outputs": [
        {
          "name": "stdout",
          "output_type": "stream",
          "text": [
            "1\n"
          ]
        }
      ],
      "source": [
        "val1 = 3\n",
        "val2 = 2\n",
        "\n",
        "# using the division operator\n",
        "res = val1 // val2\n",
        "res2 = val1 / val2\n",
        "print(res)"
      ]
    },
    {
      "cell_type": "markdown",
      "id": "ea6fa84a",
      "metadata": {
        "id": "ea6fa84a"
      },
      "source": [
        "5. Modulus Operator"
      ]
    },
    {
      "cell_type": "code",
      "execution_count": null,
      "id": "7912f819",
      "metadata": {
        "id": "7912f819",
        "outputId": "89e016a0-eb8f-44dd-9e9c-376555412e90"
      },
      "outputs": [
        {
          "name": "stdout",
          "output_type": "stream",
          "text": [
            "1\n"
          ]
        }
      ],
      "source": [
        "val1 = 1\n",
        "val2 = 2\n",
        "\n",
        "# using the modulus operator\n",
        "res = val1 % val2\n",
        "print(res)"
      ]
    },
    {
      "cell_type": "markdown",
      "id": "89c7d0a5",
      "metadata": {
        "id": "89c7d0a5"
      },
      "source": [
        "6. Exponentiation Operator"
      ]
    },
    {
      "cell_type": "code",
      "execution_count": null,
      "id": "701c9403",
      "metadata": {
        "id": "701c9403",
        "outputId": "8693abe1-9500-4007-c12e-162a820d7aad"
      },
      "outputs": [
        {
          "name": "stdout",
          "output_type": "stream",
          "text": [
            "40\n"
          ]
        }
      ],
      "source": [
        "val1 = 2\n",
        "val2 = 3\n",
        "val3 = 5\n",
        "\n",
        "# using the exponentiation operator\n",
        "res = val3 * (val1 ** val2)\n",
        "print(res)"
      ]
    },
    {
      "cell_type": "markdown",
      "id": "4dfda867",
      "metadata": {
        "id": "4dfda867"
      },
      "source": [
        "7. Floor division"
      ]
    },
    {
      "cell_type": "code",
      "execution_count": null,
      "id": "622ae4bb",
      "metadata": {
        "id": "622ae4bb",
        "outputId": "37601343-9899-4b8b-b825-76f6d3759c82"
      },
      "outputs": [
        {
          "name": "stdout",
          "output_type": "stream",
          "text": [
            "1\n"
          ]
        }
      ],
      "source": [
        "val1 = 3\n",
        "val2 = 2\n",
        "\n",
        "# using the floor division\n",
        "res = val1 // val2\n",
        "print(res)"
      ]
    },
    {
      "cell_type": "code",
      "execution_count": null,
      "id": "f37ede6d",
      "metadata": {
        "id": "f37ede6d",
        "outputId": "a0ce54da-5695-4776-9215-ede3599648a8"
      },
      "outputs": [
        {
          "data": {
            "text/plain": [
              "-172"
            ]
          },
          "execution_count": 14,
          "metadata": {},
          "output_type": "execute_result"
        }
      ],
      "source": [
        "3 - (5**2) * (7)"
      ]
    },
    {
      "cell_type": "code",
      "execution_count": null,
      "id": "dd535bb2",
      "metadata": {
        "id": "dd535bb2",
        "outputId": "264a56a4-b4da-46f4-8070-a90883962850"
      },
      "outputs": [
        {
          "data": {
            "text/plain": [
              "9"
            ]
          },
          "execution_count": 151,
          "metadata": {},
          "output_type": "execute_result"
        }
      ],
      "source": [
        "#expression\n",
        "a = 8\n",
        "3 + 5 - 7 + a"
      ]
    },
    {
      "cell_type": "markdown",
      "id": "bd601106",
      "metadata": {
        "id": "bd601106"
      },
      "source": [
        "# String Operators"
      ]
    },
    {
      "cell_type": "code",
      "execution_count": null,
      "id": "b17a02d3",
      "metadata": {
        "id": "b17a02d3",
        "outputId": "3a95e872-beea-47c8-d30e-052ef8c1d9c1"
      },
      "outputs": [
        {
          "data": {
            "text/plain": [
              "'foobarbaz'"
            ]
          },
          "execution_count": 159,
          "metadata": {},
          "output_type": "execute_result"
        }
      ],
      "source": [
        "\n",
        "s = 'foo'\n",
        "t = 'bar'\n",
        "u = 'baz'\n",
        "s+t+u"
      ]
    },
    {
      "cell_type": "code",
      "execution_count": null,
      "id": "6745ee46",
      "metadata": {
        "id": "6745ee46",
        "outputId": "efa980ec-99c1-442b-ce37-86b10e3330ad"
      },
      "outputs": [
        {
          "name": "stdout",
          "output_type": "stream",
          "text": [
            "Go team!!!\n"
          ]
        }
      ],
      "source": [
        "print('Go team' + '!!!')"
      ]
    },
    {
      "cell_type": "code",
      "execution_count": null,
      "id": "2d62aad7",
      "metadata": {
        "id": "2d62aad7",
        "outputId": "c930e172-0ead-49eb-d352-776b37bb5178"
      },
      "outputs": [
        {
          "data": {
            "text/plain": [
              "'foofoofoofoo'"
            ]
          },
          "execution_count": 161,
          "metadata": {},
          "output_type": "execute_result"
        }
      ],
      "source": [
        "s * 4"
      ]
    },
    {
      "cell_type": "code",
      "execution_count": null,
      "id": "a80850ae",
      "metadata": {
        "id": "a80850ae",
        "outputId": "0c52e9b6-d424-433c-b326-d21ca5563b23"
      },
      "outputs": [
        {
          "data": {
            "text/plain": [
              "'foofoofoofoo'"
            ]
          },
          "execution_count": 162,
          "metadata": {},
          "output_type": "execute_result"
        }
      ],
      "source": [
        "4 * s"
      ]
    },
    {
      "cell_type": "code",
      "execution_count": null,
      "id": "b8cd41ab",
      "metadata": {
        "id": "b8cd41ab",
        "outputId": "bf6e4a99-28ed-4dc4-bf1e-7e2069c0f26d"
      },
      "outputs": [
        {
          "data": {
            "text/plain": [
              "''"
            ]
          },
          "execution_count": 163,
          "metadata": {},
          "output_type": "execute_result"
        }
      ],
      "source": [
        "s * -1"
      ]
    },
    {
      "cell_type": "markdown",
      "source": [
        "###**Print**"
      ],
      "metadata": {
        "id": "C59LcfrQTKR4"
      },
      "id": "C59LcfrQTKR4"
    },
    {
      "cell_type": "code",
      "source": [
        "print(100, 'salam')"
      ],
      "metadata": {
        "colab": {
          "base_uri": "https://localhost:8080/"
        },
        "id": "xJ4bHmVZTygp",
        "outputId": "cf5ea5bf-fb4c-4fb2-c592-7a3ff0434d5f"
      },
      "id": "xJ4bHmVZTygp",
      "execution_count": null,
      "outputs": [
        {
          "output_type": "stream",
          "name": "stdout",
          "text": [
            "100 salam\n"
          ]
        }
      ]
    },
    {
      "cell_type": "code",
      "source": [
        "name = 'Emily'\n",
        "family = 'j'\n",
        "age = 18\n",
        "print(f'Im {name}, {family} and {age} years old')"
      ],
      "metadata": {
        "colab": {
          "base_uri": "https://localhost:8080/"
        },
        "id": "hofwU5eOUl2h",
        "outputId": "ff734daa-3b06-47ee-cc77-2c41afffee98"
      },
      "id": "hofwU5eOUl2h",
      "execution_count": null,
      "outputs": [
        {
          "output_type": "stream",
          "name": "stdout",
          "text": [
            "Im Emily, j and 18 years old\n"
          ]
        }
      ]
    },
    {
      "cell_type": "code",
      "source": [
        "print(f'2+2 = {2+2}')"
      ],
      "metadata": {
        "colab": {
          "base_uri": "https://localhost:8080/"
        },
        "id": "LwF0BJ6ZVIyR",
        "outputId": "d5be3915-540f-4b9f-fd4c-506bbc41cf90"
      },
      "id": "LwF0BJ6ZVIyR",
      "execution_count": null,
      "outputs": [
        {
          "output_type": "stream",
          "name": "stdout",
          "text": [
            "2+2 = 4\n"
          ]
        }
      ]
    },
    {
      "cell_type": "code",
      "source": [
        "#Specifier: {:s.nf} (where n is the number of decimal places) and s is number of space\n",
        "t = 3.14159\n",
        "print(f\"Three decimal places: {t:8.3f}\")"
      ],
      "metadata": {
        "colab": {
          "base_uri": "https://localhost:8080/"
        },
        "id": "btlHUUzDXHdU",
        "outputId": "12ab283f-5e6d-4606-fb7c-4cb58de6666c"
      },
      "id": "btlHUUzDXHdU",
      "execution_count": null,
      "outputs": [
        {
          "output_type": "stream",
          "name": "stdout",
          "text": [
            "Three decimal places:    3.142\n"
          ]
        }
      ]
    },
    {
      "cell_type": "code",
      "source": [
        "#Finally, the generic format specifier g outputs a floating point number in the most compact form\n",
        "a = 786345687.12\n",
        "b = 1.2345\n",
        "print(f\"Without the format specifier: a = {a}, b = {b}.\")\n",
        "print(f\"With the format specifier: a = {a:g}, b = {b:g}.\")"
      ],
      "metadata": {
        "id": "jYT4pAuRYsT1"
      },
      "id": "jYT4pAuRYsT1",
      "execution_count": null,
      "outputs": []
    },
    {
      "cell_type": "code",
      "source": [
        "#A similar feature can be used for integers:\n",
        "r = 87\n",
        "print(f\"Integer set to occupy exactly 8 chars of space: r = {r:8d}\")"
      ],
      "metadata": {
        "id": "EZ9Bai4gXL2_"
      },
      "id": "EZ9Bai4gXL2_",
      "execution_count": null,
      "outputs": []
    },
    {
      "cell_type": "markdown",
      "source": [
        "###**importing module**"
      ],
      "metadata": {
        "id": "lLo6fVpYZ6iq"
      },
      "id": "lLo6fVpYZ6iq"
    },
    {
      "cell_type": "code",
      "source": [],
      "metadata": {
        "id": "004z3neuaILP"
      },
      "id": "004z3neuaILP",
      "execution_count": null,
      "outputs": []
    }
  ],
  "metadata": {
    "kernelspec": {
      "display_name": "Python 3 (ipykernel)",
      "language": "python",
      "name": "python3"
    },
    "language_info": {
      "codemirror_mode": {
        "name": "ipython",
        "version": 3
      },
      "file_extension": ".py",
      "mimetype": "text/x-python",
      "name": "python",
      "nbconvert_exporter": "python",
      "pygments_lexer": "ipython3",
      "version": "3.10.4"
    },
    "colab": {
      "provenance": []
    }
  },
  "nbformat": 4,
  "nbformat_minor": 5
}